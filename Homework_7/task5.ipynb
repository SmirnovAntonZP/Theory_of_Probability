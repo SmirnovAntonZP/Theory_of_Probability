{
 "cells": [
  {
   "cell_type": "markdown",
   "metadata": {},
   "source": [
    "## Задача 5. \n",
    "Заявляется, что партия изготавливается со средним арифметическим 2,5 см.  \n",
    "Проверить данную гипотезу, если известно, что размеры изделий подчинены нормальному закону распределения.  \n",
    "Объем выборки 10, уровень статистической значимости 5%   \n",
    "2.51, 2.35, 2.74, 2.56, 2.40, 2.36, 2.65, 2.7, 2.67, 2.34   "
   ]
  },
  {
   "cell_type": "code",
   "execution_count": 2,
   "metadata": {},
   "outputs": [],
   "source": [
    "import numpy as np\n",
    "import scipy.stats as stats"
   ]
  },
  {
   "cell_type": "markdown",
   "metadata": {},
   "source": [
    "#### 1. Определяем гипотезу\n",
    "\n",
    "Основаная гипотеза $H_0: M(X)=2.5, \\mu=\\mu_0$  \n",
    "Альтернативная гипотеза $H_1: M(X)=2.5, \\mu\\neq\\mu_0$  \n",
    "$ ДКО: \\Omega_\\alpha=(- \\infty, t_{\\alpha/2},) \\cup (t_{1-\\alpha/2}, \\infty)$  \n",
    "\n",
    "#### 2. Определяем наблюдаемое критерий\n",
    "\n",
    "Нам неизвестна дисперсия и мы проверяем гипотезу относительно математического ожидания нормально распределённой случайной величины будем использовать $t$-критерий.  \n",
    "$t=\\dfrac{\\overline{X}-\\mu}{\\sigma_X/\\sqrt{n}}$:\n",
    "\n",
    "Размер выборки: $n=10$, $ \\mu=2.5$  "
   ]
  },
  {
   "cell_type": "code",
   "execution_count": 3,
   "metadata": {},
   "outputs": [],
   "source": [
    "arr = [2.51, 2.35, 2.74, 2.56, 2.40, 2.36, 2.65, 2.7, 2.67, 2.34]"
   ]
  },
  {
   "cell_type": "markdown",
   "metadata": {},
   "source": [
    "Расчитаем наблюдаемое значение $t$-критерия $t_н$"
   ]
  },
  {
   "cell_type": "code",
   "execution_count": 4,
   "metadata": {},
   "outputs": [
    {
     "name": "stdout",
     "output_type": "stream",
     "text": [
      "Наблюдаемое значение t-критерия: 0.5631\n"
     ]
    }
   ],
   "source": [
    "n = 10\n",
    "mu = 2.5\n",
    "x_mean = np.mean(arr)\n",
    "sigma = np.std(arr, ddof = 1)\n",
    "tn = (x_mean - mu) / (sigma / n**0.5)\n",
    "print(f'Наблюдаемое значение t-критерия: {round(tn, 4)}')"
   ]
  },
  {
   "cell_type": "markdown",
   "metadata": {},
   "source": [
    "### 3. Определяем уровень значимости\n",
    "\n",
    "$\\alpha=0.05$  "
   ]
  },
  {
   "cell_type": "code",
   "execution_count": 8,
   "metadata": {},
   "outputs": [
    {
     "name": "stdout",
     "output_type": "stream",
     "text": [
      "Табличное значение t-критерия: t2 = -2.2622, t1 = 2.2622\n"
     ]
    }
   ],
   "source": [
    "alpha = 0.05\n",
    "\n",
    "t1 = stats.t.ppf(1 - alpha / 2, n - 1)\n",
    "t2 = stats.t.ppf(alpha / 2, n - 1)\n",
    "print(f'Табличное значение t-критерия: t2 = {round(t2, 4)}, t1 = {round(t1, 4)}')"
   ]
  },
  {
   "cell_type": "code",
   "execution_count": 9,
   "metadata": {},
   "outputs": [
    {
     "data": {
      "text/plain": [
       "True"
      ]
     },
     "execution_count": 9,
     "metadata": {},
     "output_type": "execute_result"
    }
   ],
   "source": [
    "t2 < np.abs(tn) < t1"
   ]
  },
  {
   "cell_type": "markdown",
   "metadata": {},
   "source": [
    "#### 5. Так как $t_2<|t_н|<t_1$, то нулевая гипотеза $H_0$ не отвергается."
   ]
  }
 ],
 "metadata": {
  "kernelspec": {
   "display_name": "Python 3",
   "language": "python",
   "name": "python3"
  },
  "language_info": {
   "codemirror_mode": {
    "name": "ipython",
    "version": 3
   },
   "file_extension": ".py",
   "mimetype": "text/x-python",
   "name": "python",
   "nbconvert_exporter": "python",
   "pygments_lexer": "ipython3",
   "version": "3.11.7"
  }
 },
 "nbformat": 4,
 "nbformat_minor": 2
}
